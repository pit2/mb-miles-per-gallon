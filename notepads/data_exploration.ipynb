{
 "cells": [
  {
   "cell_type": "code",
   "execution_count": 1,
   "metadata": {},
   "outputs": [],
   "source": [
    "import pandas as pd\n",
    "import numpy as np\n",
    "import matplotlib.pyplot as plt"
   ]
  },
  {
   "cell_type": "code",
   "execution_count": 39,
   "metadata": {},
   "outputs": [],
   "source": [
    "df = pd.read_csv(\"../data/auto-mpg.csv\", sep=\";\")"
   ]
  },
  {
   "cell_type": "code",
   "execution_count": 5,
   "metadata": {},
   "outputs": [
    {
     "data": {
      "text/html": [
       "<div>\n",
       "<style scoped>\n",
       "    .dataframe tbody tr th:only-of-type {\n",
       "        vertical-align: middle;\n",
       "    }\n",
       "\n",
       "    .dataframe tbody tr th {\n",
       "        vertical-align: top;\n",
       "    }\n",
       "\n",
       "    .dataframe thead th {\n",
       "        text-align: right;\n",
       "    }\n",
       "</style>\n",
       "<table border=\"1\" class=\"dataframe\">\n",
       "  <thead>\n",
       "    <tr style=\"text-align: right;\">\n",
       "      <th></th>\n",
       "      <th>mpg</th>\n",
       "      <th>zylinder</th>\n",
       "      <th>ps</th>\n",
       "      <th>gewicht</th>\n",
       "      <th>beschleunigung</th>\n",
       "      <th>baujahr</th>\n",
       "    </tr>\n",
       "  </thead>\n",
       "  <tbody>\n",
       "    <tr>\n",
       "      <th>0</th>\n",
       "      <td>18.0</td>\n",
       "      <td>8</td>\n",
       "      <td>130</td>\n",
       "      <td>3504</td>\n",
       "      <td>12.0</td>\n",
       "      <td>70</td>\n",
       "    </tr>\n",
       "    <tr>\n",
       "      <th>1</th>\n",
       "      <td>15.0</td>\n",
       "      <td>8</td>\n",
       "      <td>165</td>\n",
       "      <td>3693</td>\n",
       "      <td>11.5</td>\n",
       "      <td>70</td>\n",
       "    </tr>\n",
       "    <tr>\n",
       "      <th>2</th>\n",
       "      <td>18.0</td>\n",
       "      <td>8</td>\n",
       "      <td>150</td>\n",
       "      <td>3436</td>\n",
       "      <td>11.0</td>\n",
       "      <td>70</td>\n",
       "    </tr>\n",
       "    <tr>\n",
       "      <th>3</th>\n",
       "      <td>16.0</td>\n",
       "      <td>8</td>\n",
       "      <td>150</td>\n",
       "      <td>3433</td>\n",
       "      <td>12.0</td>\n",
       "      <td>70</td>\n",
       "    </tr>\n",
       "    <tr>\n",
       "      <th>4</th>\n",
       "      <td>17.0</td>\n",
       "      <td>8</td>\n",
       "      <td>140</td>\n",
       "      <td>3449</td>\n",
       "      <td>10.5</td>\n",
       "      <td>70</td>\n",
       "    </tr>\n",
       "  </tbody>\n",
       "</table>\n",
       "</div>"
      ],
      "text/plain": [
       "    mpg  zylinder   ps  gewicht  beschleunigung  baujahr\n",
       "0  18.0         8  130     3504            12.0       70\n",
       "1  15.0         8  165     3693            11.5       70\n",
       "2  18.0         8  150     3436            11.0       70\n",
       "3  16.0         8  150     3433            12.0       70\n",
       "4  17.0         8  140     3449            10.5       70"
      ]
     },
     "execution_count": 5,
     "metadata": {},
     "output_type": "execute_result"
    }
   ],
   "source": [
    "df.head()"
   ]
  },
  {
   "cell_type": "code",
   "execution_count": 6,
   "metadata": {},
   "outputs": [
    {
     "data": {
      "text/html": [
       "<div>\n",
       "<style scoped>\n",
       "    .dataframe tbody tr th:only-of-type {\n",
       "        vertical-align: middle;\n",
       "    }\n",
       "\n",
       "    .dataframe tbody tr th {\n",
       "        vertical-align: top;\n",
       "    }\n",
       "\n",
       "    .dataframe thead th {\n",
       "        text-align: right;\n",
       "    }\n",
       "</style>\n",
       "<table border=\"1\" class=\"dataframe\">\n",
       "  <thead>\n",
       "    <tr style=\"text-align: right;\">\n",
       "      <th></th>\n",
       "      <th>mpg</th>\n",
       "      <th>zylinder</th>\n",
       "      <th>ps</th>\n",
       "      <th>gewicht</th>\n",
       "      <th>beschleunigung</th>\n",
       "      <th>baujahr</th>\n",
       "    </tr>\n",
       "  </thead>\n",
       "  <tbody>\n",
       "    <tr>\n",
       "      <th>count</th>\n",
       "      <td>393.000000</td>\n",
       "      <td>393.000000</td>\n",
       "      <td>393.000000</td>\n",
       "      <td>393.000000</td>\n",
       "      <td>393.000000</td>\n",
       "      <td>393.000000</td>\n",
       "    </tr>\n",
       "    <tr>\n",
       "      <th>mean</th>\n",
       "      <td>23.524682</td>\n",
       "      <td>5.452926</td>\n",
       "      <td>104.430025</td>\n",
       "      <td>2967.811705</td>\n",
       "      <td>15.558779</td>\n",
       "      <td>75.989822</td>\n",
       "    </tr>\n",
       "    <tr>\n",
       "      <th>std</th>\n",
       "      <td>7.819907</td>\n",
       "      <td>1.703372</td>\n",
       "      <td>38.297450</td>\n",
       "      <td>849.097663</td>\n",
       "      <td>2.765666</td>\n",
       "      <td>3.692919</td>\n",
       "    </tr>\n",
       "    <tr>\n",
       "      <th>min</th>\n",
       "      <td>9.000000</td>\n",
       "      <td>3.000000</td>\n",
       "      <td>46.000000</td>\n",
       "      <td>1613.000000</td>\n",
       "      <td>8.000000</td>\n",
       "      <td>70.000000</td>\n",
       "    </tr>\n",
       "    <tr>\n",
       "      <th>25%</th>\n",
       "      <td>17.500000</td>\n",
       "      <td>4.000000</td>\n",
       "      <td>76.000000</td>\n",
       "      <td>2220.000000</td>\n",
       "      <td>13.800000</td>\n",
       "      <td>73.000000</td>\n",
       "    </tr>\n",
       "    <tr>\n",
       "      <th>50%</th>\n",
       "      <td>23.000000</td>\n",
       "      <td>4.000000</td>\n",
       "      <td>95.000000</td>\n",
       "      <td>2800.000000</td>\n",
       "      <td>15.500000</td>\n",
       "      <td>76.000000</td>\n",
       "    </tr>\n",
       "    <tr>\n",
       "      <th>75%</th>\n",
       "      <td>29.000000</td>\n",
       "      <td>8.000000</td>\n",
       "      <td>125.000000</td>\n",
       "      <td>3609.000000</td>\n",
       "      <td>17.200000</td>\n",
       "      <td>79.000000</td>\n",
       "    </tr>\n",
       "    <tr>\n",
       "      <th>max</th>\n",
       "      <td>46.600000</td>\n",
       "      <td>8.000000</td>\n",
       "      <td>230.000000</td>\n",
       "      <td>5140.000000</td>\n",
       "      <td>24.800000</td>\n",
       "      <td>82.000000</td>\n",
       "    </tr>\n",
       "  </tbody>\n",
       "</table>\n",
       "</div>"
      ],
      "text/plain": [
       "              mpg    zylinder          ps      gewicht  beschleunigung  \\\n",
       "count  393.000000  393.000000  393.000000   393.000000      393.000000   \n",
       "mean    23.524682    5.452926  104.430025  2967.811705       15.558779   \n",
       "std      7.819907    1.703372   38.297450   849.097663        2.765666   \n",
       "min      9.000000    3.000000   46.000000  1613.000000        8.000000   \n",
       "25%     17.500000    4.000000   76.000000  2220.000000       13.800000   \n",
       "50%     23.000000    4.000000   95.000000  2800.000000       15.500000   \n",
       "75%     29.000000    8.000000  125.000000  3609.000000       17.200000   \n",
       "max     46.600000    8.000000  230.000000  5140.000000       24.800000   \n",
       "\n",
       "          baujahr  \n",
       "count  393.000000  \n",
       "mean    75.989822  \n",
       "std      3.692919  \n",
       "min     70.000000  \n",
       "25%     73.000000  \n",
       "50%     76.000000  \n",
       "75%     79.000000  \n",
       "max     82.000000  "
      ]
     },
     "execution_count": 6,
     "metadata": {},
     "output_type": "execute_result"
    }
   ],
   "source": [
    "df.describe()"
   ]
  },
  {
   "cell_type": "code",
   "execution_count": 7,
   "metadata": {},
   "outputs": [
    {
     "data": {
      "text/html": [
       "<div>\n",
       "<style scoped>\n",
       "    .dataframe tbody tr th:only-of-type {\n",
       "        vertical-align: middle;\n",
       "    }\n",
       "\n",
       "    .dataframe tbody tr th {\n",
       "        vertical-align: top;\n",
       "    }\n",
       "\n",
       "    .dataframe thead th {\n",
       "        text-align: right;\n",
       "    }\n",
       "</style>\n",
       "<table border=\"1\" class=\"dataframe\">\n",
       "  <thead>\n",
       "    <tr style=\"text-align: right;\">\n",
       "      <th></th>\n",
       "      <th>mpg</th>\n",
       "      <th>zylinder</th>\n",
       "      <th>ps</th>\n",
       "      <th>gewicht</th>\n",
       "      <th>beschleunigung</th>\n",
       "      <th>baujahr</th>\n",
       "    </tr>\n",
       "  </thead>\n",
       "  <tbody>\n",
       "    <tr>\n",
       "      <th>mpg</th>\n",
       "      <td>1.000000</td>\n",
       "      <td>-0.773853</td>\n",
       "      <td>-0.770609</td>\n",
       "      <td>-0.831294</td>\n",
       "      <td>0.417892</td>\n",
       "      <td>0.577105</td>\n",
       "    </tr>\n",
       "    <tr>\n",
       "      <th>zylinder</th>\n",
       "      <td>-0.773853</td>\n",
       "      <td>1.000000</td>\n",
       "      <td>0.838511</td>\n",
       "      <td>0.895605</td>\n",
       "      <td>-0.503040</td>\n",
       "      <td>-0.342758</td>\n",
       "    </tr>\n",
       "    <tr>\n",
       "      <th>ps</th>\n",
       "      <td>-0.770609</td>\n",
       "      <td>0.838511</td>\n",
       "      <td>1.000000</td>\n",
       "      <td>0.860304</td>\n",
       "      <td>-0.684182</td>\n",
       "      <td>-0.409292</td>\n",
       "    </tr>\n",
       "    <tr>\n",
       "      <th>gewicht</th>\n",
       "      <td>-0.831294</td>\n",
       "      <td>0.895605</td>\n",
       "      <td>0.860304</td>\n",
       "      <td>1.000000</td>\n",
       "      <td>-0.416212</td>\n",
       "      <td>-0.302993</td>\n",
       "    </tr>\n",
       "    <tr>\n",
       "      <th>beschleunigung</th>\n",
       "      <td>0.417892</td>\n",
       "      <td>-0.503040</td>\n",
       "      <td>-0.684182</td>\n",
       "      <td>-0.416212</td>\n",
       "      <td>1.000000</td>\n",
       "      <td>0.281977</td>\n",
       "    </tr>\n",
       "    <tr>\n",
       "      <th>baujahr</th>\n",
       "      <td>0.577105</td>\n",
       "      <td>-0.342758</td>\n",
       "      <td>-0.409292</td>\n",
       "      <td>-0.302993</td>\n",
       "      <td>0.281977</td>\n",
       "      <td>1.000000</td>\n",
       "    </tr>\n",
       "  </tbody>\n",
       "</table>\n",
       "</div>"
      ],
      "text/plain": [
       "                     mpg  zylinder        ps   gewicht  beschleunigung  \\\n",
       "mpg             1.000000 -0.773853 -0.770609 -0.831294        0.417892   \n",
       "zylinder       -0.773853  1.000000  0.838511  0.895605       -0.503040   \n",
       "ps             -0.770609  0.838511  1.000000  0.860304       -0.684182   \n",
       "gewicht        -0.831294  0.895605  0.860304  1.000000       -0.416212   \n",
       "beschleunigung  0.417892 -0.503040 -0.684182 -0.416212        1.000000   \n",
       "baujahr         0.577105 -0.342758 -0.409292 -0.302993        0.281977   \n",
       "\n",
       "                 baujahr  \n",
       "mpg             0.577105  \n",
       "zylinder       -0.342758  \n",
       "ps             -0.409292  \n",
       "gewicht        -0.302993  \n",
       "beschleunigung  0.281977  \n",
       "baujahr         1.000000  "
      ]
     },
     "execution_count": 7,
     "metadata": {},
     "output_type": "execute_result"
    }
   ],
   "source": [
    "df.corr()\n"
   ]
  },
  {
   "cell_type": "code",
   "execution_count": 11,
   "metadata": {},
   "outputs": [],
   "source": [
    "df = df.drop(\"gewicht\", axis=1)"
   ]
  },
  {
   "cell_type": "code",
   "execution_count": 12,
   "metadata": {},
   "outputs": [
    {
     "data": {
      "text/html": [
       "<div>\n",
       "<style scoped>\n",
       "    .dataframe tbody tr th:only-of-type {\n",
       "        vertical-align: middle;\n",
       "    }\n",
       "\n",
       "    .dataframe tbody tr th {\n",
       "        vertical-align: top;\n",
       "    }\n",
       "\n",
       "    .dataframe thead th {\n",
       "        text-align: right;\n",
       "    }\n",
       "</style>\n",
       "<table border=\"1\" class=\"dataframe\">\n",
       "  <thead>\n",
       "    <tr style=\"text-align: right;\">\n",
       "      <th></th>\n",
       "      <th>mpg</th>\n",
       "      <th>zylinder</th>\n",
       "      <th>ps</th>\n",
       "      <th>beschleunigung</th>\n",
       "      <th>baujahr</th>\n",
       "    </tr>\n",
       "  </thead>\n",
       "  <tbody>\n",
       "    <tr>\n",
       "      <th>mpg</th>\n",
       "      <td>1.000000</td>\n",
       "      <td>-0.773853</td>\n",
       "      <td>-0.770609</td>\n",
       "      <td>0.417892</td>\n",
       "      <td>0.577105</td>\n",
       "    </tr>\n",
       "    <tr>\n",
       "      <th>zylinder</th>\n",
       "      <td>-0.773853</td>\n",
       "      <td>1.000000</td>\n",
       "      <td>0.838511</td>\n",
       "      <td>-0.503040</td>\n",
       "      <td>-0.342758</td>\n",
       "    </tr>\n",
       "    <tr>\n",
       "      <th>ps</th>\n",
       "      <td>-0.770609</td>\n",
       "      <td>0.838511</td>\n",
       "      <td>1.000000</td>\n",
       "      <td>-0.684182</td>\n",
       "      <td>-0.409292</td>\n",
       "    </tr>\n",
       "    <tr>\n",
       "      <th>beschleunigung</th>\n",
       "      <td>0.417892</td>\n",
       "      <td>-0.503040</td>\n",
       "      <td>-0.684182</td>\n",
       "      <td>1.000000</td>\n",
       "      <td>0.281977</td>\n",
       "    </tr>\n",
       "    <tr>\n",
       "      <th>baujahr</th>\n",
       "      <td>0.577105</td>\n",
       "      <td>-0.342758</td>\n",
       "      <td>-0.409292</td>\n",
       "      <td>0.281977</td>\n",
       "      <td>1.000000</td>\n",
       "    </tr>\n",
       "  </tbody>\n",
       "</table>\n",
       "</div>"
      ],
      "text/plain": [
       "                     mpg  zylinder        ps  beschleunigung   baujahr\n",
       "mpg             1.000000 -0.773853 -0.770609        0.417892  0.577105\n",
       "zylinder       -0.773853  1.000000  0.838511       -0.503040 -0.342758\n",
       "ps             -0.770609  0.838511  1.000000       -0.684182 -0.409292\n",
       "beschleunigung  0.417892 -0.503040 -0.684182        1.000000  0.281977\n",
       "baujahr         0.577105 -0.342758 -0.409292        0.281977  1.000000"
      ]
     },
     "execution_count": 12,
     "metadata": {},
     "output_type": "execute_result"
    }
   ],
   "source": [
    "df.corr()"
   ]
  },
  {
   "cell_type": "code",
   "execution_count": 14,
   "metadata": {},
   "outputs": [],
   "source": [
    "df = df.drop(\"zylinder\", axis=1)"
   ]
  },
  {
   "cell_type": "code",
   "execution_count": 15,
   "metadata": {},
   "outputs": [
    {
     "data": {
      "text/html": [
       "<div>\n",
       "<style scoped>\n",
       "    .dataframe tbody tr th:only-of-type {\n",
       "        vertical-align: middle;\n",
       "    }\n",
       "\n",
       "    .dataframe tbody tr th {\n",
       "        vertical-align: top;\n",
       "    }\n",
       "\n",
       "    .dataframe thead th {\n",
       "        text-align: right;\n",
       "    }\n",
       "</style>\n",
       "<table border=\"1\" class=\"dataframe\">\n",
       "  <thead>\n",
       "    <tr style=\"text-align: right;\">\n",
       "      <th></th>\n",
       "      <th>mpg</th>\n",
       "      <th>ps</th>\n",
       "      <th>beschleunigung</th>\n",
       "      <th>baujahr</th>\n",
       "    </tr>\n",
       "  </thead>\n",
       "  <tbody>\n",
       "    <tr>\n",
       "      <th>mpg</th>\n",
       "      <td>1.000000</td>\n",
       "      <td>-0.770609</td>\n",
       "      <td>0.417892</td>\n",
       "      <td>0.577105</td>\n",
       "    </tr>\n",
       "    <tr>\n",
       "      <th>ps</th>\n",
       "      <td>-0.770609</td>\n",
       "      <td>1.000000</td>\n",
       "      <td>-0.684182</td>\n",
       "      <td>-0.409292</td>\n",
       "    </tr>\n",
       "    <tr>\n",
       "      <th>beschleunigung</th>\n",
       "      <td>0.417892</td>\n",
       "      <td>-0.684182</td>\n",
       "      <td>1.000000</td>\n",
       "      <td>0.281977</td>\n",
       "    </tr>\n",
       "    <tr>\n",
       "      <th>baujahr</th>\n",
       "      <td>0.577105</td>\n",
       "      <td>-0.409292</td>\n",
       "      <td>0.281977</td>\n",
       "      <td>1.000000</td>\n",
       "    </tr>\n",
       "  </tbody>\n",
       "</table>\n",
       "</div>"
      ],
      "text/plain": [
       "                     mpg        ps  beschleunigung   baujahr\n",
       "mpg             1.000000 -0.770609        0.417892  0.577105\n",
       "ps             -0.770609  1.000000       -0.684182 -0.409292\n",
       "beschleunigung  0.417892 -0.684182        1.000000  0.281977\n",
       "baujahr         0.577105 -0.409292        0.281977  1.000000"
      ]
     },
     "execution_count": 15,
     "metadata": {},
     "output_type": "execute_result"
    }
   ],
   "source": [
    "df.corr()"
   ]
  },
  {
   "cell_type": "code",
   "execution_count": 16,
   "metadata": {},
   "outputs": [
    {
     "data": {
      "text/html": [
       "<div>\n",
       "<style scoped>\n",
       "    .dataframe tbody tr th:only-of-type {\n",
       "        vertical-align: middle;\n",
       "    }\n",
       "\n",
       "    .dataframe tbody tr th {\n",
       "        vertical-align: top;\n",
       "    }\n",
       "\n",
       "    .dataframe thead th {\n",
       "        text-align: right;\n",
       "    }\n",
       "</style>\n",
       "<table border=\"1\" class=\"dataframe\">\n",
       "  <thead>\n",
       "    <tr style=\"text-align: right;\">\n",
       "      <th></th>\n",
       "      <th>mpg</th>\n",
       "      <th>ps</th>\n",
       "      <th>beschleunigung</th>\n",
       "      <th>baujahr</th>\n",
       "    </tr>\n",
       "  </thead>\n",
       "  <tbody>\n",
       "    <tr>\n",
       "      <th>count</th>\n",
       "      <td>393.000000</td>\n",
       "      <td>393.000000</td>\n",
       "      <td>393.000000</td>\n",
       "      <td>393.000000</td>\n",
       "    </tr>\n",
       "    <tr>\n",
       "      <th>mean</th>\n",
       "      <td>23.524682</td>\n",
       "      <td>104.430025</td>\n",
       "      <td>15.558779</td>\n",
       "      <td>75.989822</td>\n",
       "    </tr>\n",
       "    <tr>\n",
       "      <th>std</th>\n",
       "      <td>7.819907</td>\n",
       "      <td>38.297450</td>\n",
       "      <td>2.765666</td>\n",
       "      <td>3.692919</td>\n",
       "    </tr>\n",
       "    <tr>\n",
       "      <th>min</th>\n",
       "      <td>9.000000</td>\n",
       "      <td>46.000000</td>\n",
       "      <td>8.000000</td>\n",
       "      <td>70.000000</td>\n",
       "    </tr>\n",
       "    <tr>\n",
       "      <th>25%</th>\n",
       "      <td>17.500000</td>\n",
       "      <td>76.000000</td>\n",
       "      <td>13.800000</td>\n",
       "      <td>73.000000</td>\n",
       "    </tr>\n",
       "    <tr>\n",
       "      <th>50%</th>\n",
       "      <td>23.000000</td>\n",
       "      <td>95.000000</td>\n",
       "      <td>15.500000</td>\n",
       "      <td>76.000000</td>\n",
       "    </tr>\n",
       "    <tr>\n",
       "      <th>75%</th>\n",
       "      <td>29.000000</td>\n",
       "      <td>125.000000</td>\n",
       "      <td>17.200000</td>\n",
       "      <td>79.000000</td>\n",
       "    </tr>\n",
       "    <tr>\n",
       "      <th>max</th>\n",
       "      <td>46.600000</td>\n",
       "      <td>230.000000</td>\n",
       "      <td>24.800000</td>\n",
       "      <td>82.000000</td>\n",
       "    </tr>\n",
       "  </tbody>\n",
       "</table>\n",
       "</div>"
      ],
      "text/plain": [
       "              mpg          ps  beschleunigung     baujahr\n",
       "count  393.000000  393.000000      393.000000  393.000000\n",
       "mean    23.524682  104.430025       15.558779   75.989822\n",
       "std      7.819907   38.297450        2.765666    3.692919\n",
       "min      9.000000   46.000000        8.000000   70.000000\n",
       "25%     17.500000   76.000000       13.800000   73.000000\n",
       "50%     23.000000   95.000000       15.500000   76.000000\n",
       "75%     29.000000  125.000000       17.200000   79.000000\n",
       "max     46.600000  230.000000       24.800000   82.000000"
      ]
     },
     "execution_count": 16,
     "metadata": {},
     "output_type": "execute_result"
    }
   ],
   "source": [
    "df.describe()"
   ]
  },
  {
   "cell_type": "code",
   "execution_count": 26,
   "metadata": {},
   "outputs": [
    {
     "data": {
      "text/plain": [
       "<AxesSubplot:ylabel='Density'>"
      ]
     },
     "execution_count": 26,
     "metadata": {},
     "output_type": "execute_result"
    },
    {
     "data": {
      "image/png": "[encoded data removed]",
      "text/plain": [
       "<Figure size 432x288 with 1 Axes>"
      ]
     },
     "metadata": {
      "needs_background": "light"
     },
     "output_type": "display_data"
    }
   ],
   "source": [
    "df[\"mpg\"].plot.kde()"
   ]
  },
  {
   "cell_type": "code",
   "execution_count": 25,
   "metadata": {},
   "outputs": [
    {
     "data": {
      "text/plain": [
       "<AxesSubplot:ylabel='Density'>"
      ]
     },
     "execution_count": 25,
     "metadata": {},
     "output_type": "execute_result"
    },
    {
     "data": {
      "image/png": "[encoded data removed]",
      "text/plain": [
       "<Figure size 432x288 with 1 Axes>"
      ]
     },
     "metadata": {
      "needs_background": "light"
     },
     "output_type": "display_data"
    }
   ],
   "source": [
    "df[\"ps\"].plot.kde()"
   ]
  },
  {
   "cell_type": "code",
   "execution_count": 27,
   "metadata": {},
   "outputs": [
    {
     "data": {
      "text/plain": [
       "<AxesSubplot:ylabel='Density'>"
      ]
     },
     "execution_count": 27,
     "metadata": {},
     "output_type": "execute_result"
    },
    {
     "data": {
      "image/png": "[encoded data removed]",
      "text/plain": [
       "<Figure size 432x288 with 1 Axes>"
      ]
     },
     "metadata": {
      "needs_background": "light"
     },
     "output_type": "display_data"
    }
   ],
   "source": [
    "df[\"beschleunigung\"].plot.kde()"
   ]
  },
  {
   "cell_type": "code",
   "execution_count": 28,
   "metadata": {},
   "outputs": [
    {
     "data": {
      "text/plain": [
       "<AxesSubplot:ylabel='Density'>"
      ]
     },
     "execution_count": 28,
     "metadata": {},
     "output_type": "execute_result"
    },
    {
     "data": {
      "image/png": "[encoded data removed]",
      "text/plain": [
       "<Figure size 432x288 with 1 Axes>"
      ]
     },
     "metadata": {
      "needs_background": "light"
     },
     "output_type": "display_data"
    }
   ],
   "source": [
    "df[\"baujahr\"].plot.kde()\n"
   ]
  },
  {
   "cell_type": "code",
   "execution_count": 37,
   "metadata": {},
   "outputs": [
    {
     "name": "stdout",
     "output_type": "stream",
     "text": [
      "0      0.239362\n",
      "1      0.159574\n",
      "2      0.239362\n",
      "3      0.186170\n",
      "4      0.212766\n",
      "         ...   \n",
      "388    0.478723\n",
      "389    0.478723\n",
      "390    0.930851\n",
      "391    0.611702\n",
      "392    0.505319\n",
      "Name: mpg, Length: 393, dtype: float64\n",
      "min: 0.0\n",
      "max: 1.0\n",
      "0      0.239362\n",
      "1      0.159574\n",
      "2      0.239362\n",
      "3      0.186170\n",
      "4      0.212766\n",
      "         ...   \n",
      "388    0.478723\n",
      "389    0.478723\n",
      "390    0.930851\n",
      "391    0.611702\n",
      "392    0.505319\n",
      "Name: mpg, Length: 393, dtype: float64\n",
      "0      130\n",
      "1      165\n",
      "2      150\n",
      "3      150\n",
      "4      140\n",
      "      ... \n",
      "388     90\n",
      "389     86\n",
      "390     52\n",
      "391     84\n",
      "392     79\n",
      "Name: ps, Length: 393, dtype: int64\n",
      "min: 46\n",
      "max: 230\n",
      "0      0.456522\n",
      "1      0.646739\n",
      "2      0.565217\n",
      "3      0.565217\n",
      "4      0.510870\n",
      "         ...   \n",
      "388    0.239130\n",
      "389    0.217391\n",
      "390    0.032609\n",
      "391    0.206522\n",
      "392    0.179348\n",
      "Name: ps, Length: 393, dtype: float64\n",
      "0      12.0\n",
      "1      11.5\n",
      "2      11.0\n",
      "3      12.0\n",
      "4      10.5\n",
      "       ... \n",
      "388    17.3\n",
      "389    15.6\n",
      "390    24.6\n",
      "391    11.6\n",
      "392    18.6\n",
      "Name: beschleunigung, Length: 393, dtype: float64\n",
      "min: 8.0\n",
      "max: 24.8\n",
      "0      0.238095\n",
      "1      0.208333\n",
      "2      0.178571\n",
      "3      0.238095\n",
      "4      0.148810\n",
      "         ...   \n",
      "388    0.553571\n",
      "389    0.452381\n",
      "390    0.988095\n",
      "391    0.214286\n",
      "392    0.630952\n",
      "Name: beschleunigung, Length: 393, dtype: float64\n",
      "0      70\n",
      "1      70\n",
      "2      70\n",
      "3      70\n",
      "4      70\n",
      "       ..\n",
      "388    82\n",
      "389    82\n",
      "390    82\n",
      "391    82\n",
      "392    82\n",
      "Name: baujahr, Length: 393, dtype: int64\n",
      "min: 70\n",
      "max: 82\n",
      "0      0.0\n",
      "1      0.0\n",
      "2      0.0\n",
      "3      0.0\n",
      "4      0.0\n",
      "      ... \n",
      "388    1.0\n",
      "389    1.0\n",
      "390    1.0\n",
      "391    1.0\n",
      "392    1.0\n",
      "Name: baujahr, Length: 393, dtype: float64\n"
     ]
    }
   ],
   "source": [
    "def normalise(data):\n",
    "    print(data)\n",
    "    min_ = np.min(data)\n",
    "    print(f\"min: {min_}\")\n",
    "    max_ = np.max(data)\n",
    "    print(f\"max: {max_}\")\n",
    "    new_data = (data - min_) / (max_ - min_)\n",
    "    print(new_data)\n",
    "    return new_data\n",
    "    \n",
    "\n",
    "for col in df.columns:\n",
    "    df[col] = normalise(df[col])\n"
   ]
  },
  {
   "cell_type": "code",
   "execution_count": 38,
   "metadata": {},
   "outputs": [
    {
     "data": {
      "text/html": [
       "<div>\n",
       "<style scoped>\n",
       "    .dataframe tbody tr th:only-of-type {\n",
       "        vertical-align: middle;\n",
       "    }\n",
       "\n",
       "    .dataframe tbody tr th {\n",
       "        vertical-align: top;\n",
       "    }\n",
       "\n",
       "    .dataframe thead th {\n",
       "        text-align: right;\n",
       "    }\n",
       "</style>\n",
       "<table border=\"1\" class=\"dataframe\">\n",
       "  <thead>\n",
       "    <tr style=\"text-align: right;\">\n",
       "      <th></th>\n",
       "      <th>mpg</th>\n",
       "      <th>ps</th>\n",
       "      <th>beschleunigung</th>\n",
       "      <th>baujahr</th>\n",
       "    </tr>\n",
       "  </thead>\n",
       "  <tbody>\n",
       "    <tr>\n",
       "      <th>count</th>\n",
       "      <td>393.000000</td>\n",
       "      <td>393.000000</td>\n",
       "      <td>393.000000</td>\n",
       "      <td>393.000000</td>\n",
       "    </tr>\n",
       "    <tr>\n",
       "      <th>mean</th>\n",
       "      <td>0.386295</td>\n",
       "      <td>0.317554</td>\n",
       "      <td>0.449927</td>\n",
       "      <td>0.499152</td>\n",
       "    </tr>\n",
       "    <tr>\n",
       "      <th>std</th>\n",
       "      <td>0.207976</td>\n",
       "      <td>0.208138</td>\n",
       "      <td>0.164623</td>\n",
       "      <td>0.307743</td>\n",
       "    </tr>\n",
       "    <tr>\n",
       "      <th>min</th>\n",
       "      <td>0.000000</td>\n",
       "      <td>0.000000</td>\n",
       "      <td>0.000000</td>\n",
       "      <td>0.000000</td>\n",
       "    </tr>\n",
       "    <tr>\n",
       "      <th>25%</th>\n",
       "      <td>0.226064</td>\n",
       "      <td>0.163043</td>\n",
       "      <td>0.345238</td>\n",
       "      <td>0.250000</td>\n",
       "    </tr>\n",
       "    <tr>\n",
       "      <th>50%</th>\n",
       "      <td>0.372340</td>\n",
       "      <td>0.266304</td>\n",
       "      <td>0.446429</td>\n",
       "      <td>0.500000</td>\n",
       "    </tr>\n",
       "    <tr>\n",
       "      <th>75%</th>\n",
       "      <td>0.531915</td>\n",
       "      <td>0.429348</td>\n",
       "      <td>0.547619</td>\n",
       "      <td>0.750000</td>\n",
       "    </tr>\n",
       "    <tr>\n",
       "      <th>max</th>\n",
       "      <td>1.000000</td>\n",
       "      <td>1.000000</td>\n",
       "      <td>1.000000</td>\n",
       "      <td>1.000000</td>\n",
       "    </tr>\n",
       "  </tbody>\n",
       "</table>\n",
       "</div>"
      ],
      "text/plain": [
       "              mpg          ps  beschleunigung     baujahr\n",
       "count  393.000000  393.000000      393.000000  393.000000\n",
       "mean     0.386295    0.317554        0.449927    0.499152\n",
       "std      0.207976    0.208138        0.164623    0.307743\n",
       "min      0.000000    0.000000        0.000000    0.000000\n",
       "25%      0.226064    0.163043        0.345238    0.250000\n",
       "50%      0.372340    0.266304        0.446429    0.500000\n",
       "75%      0.531915    0.429348        0.547619    0.750000\n",
       "max      1.000000    1.000000        1.000000    1.000000"
      ]
     },
     "execution_count": 38,
     "metadata": {},
     "output_type": "execute_result"
    }
   ],
   "source": [
    "df.describe()"
   ]
  },
  {
   "cell_type": "code",
   "execution_count": 44,
   "metadata": {},
   "outputs": [
    {
     "data": {
      "image/png": "[encoded data removed]",
      "text/plain": [
       "<Figure size 432x288 with 1 Axes>"
      ]
     },
     "metadata": {
      "needs_background": "light"
     },
     "output_type": "display_data"
    },
    {
     "data": {
      "image/png": "[encoded data removed]",
      "text/plain": [
       "<Figure size 432x288 with 1 Axes>"
      ]
     },
     "metadata": {
      "needs_background": "light"
     },
     "output_type": "display_data"
    },
    {
     "data": {
      "image/png": "[encoded data removed]",
      "text/plain": [
       "<Figure size 432x288 with 1 Axes>"
      ]
     },
     "metadata": {
      "needs_background": "light"
     },
     "output_type": "display_data"
    },
    {
     "data": {
      "image/png": "[encoded data removed]",
      "text/plain": [
       "<Figure size 432x288 with 1 Axes>"
      ]
     },
     "metadata": {
      "needs_background": "light"
     },
     "output_type": "display_data"
    },
    {
     "data": {
      "image/png": "[encoded data removed]",
      "text/plain": [
       "<Figure size 432x288 with 1 Axes>"
      ]
     },
     "metadata": {
      "needs_background": "light"
     },
     "output_type": "display_data"
    },
    {
     "data": {
      "image/png": "[encoded data removed]",
      "text/plain": [
       "<Figure size 432x288 with 1 Axes>"
      ]
     },
     "metadata": {
      "needs_background": "light"
     },
     "output_type": "display_data"
    }
   ],
   "source": [
    "for col in df.columns:\n",
    "    df.plot.scatter(x=col, y=\"mpg\")"
   ]
  },
  {
   "cell_type": "code",
   "execution_count": 41,
   "metadata": {},
   "outputs": [
    {
     "data": {
      "text/plain": [
       "<AxesSubplot:xlabel='gewicht', ylabel='mpg'>"
      ]
     },
     "execution_count": 41,
     "metadata": {},
     "output_type": "execute_result"
    },
    {
     "data": {
      "image/png": "[encoded data removed]",
      "text/plain": [
       "<Figure size 432x288 with 1 Axes>"
      ]
     },
     "metadata": {
      "needs_background": "light"
     },
     "output_type": "display_data"
    }
   ],
   "source": [
    "df.plot.scatter(x=\"gewicht\", y=\"mpg\")"
   ]
  }
 ],
 "metadata": {
  "interpreter": {
   "hash": "01f758844e8a5dba859c2fcd52dc9d158ce98333ef345b08a232c1fa2b8d1cbe"
  },
  "kernelspec": {
   "display_name": "Python 3.10.2 64-bit ('3.10.2')",
   "language": "python",
   "name": "python3"
  },
  "language_info": {
   "codemirror_mode": {
    "name": "ipython",
    "version": 3
   },
   "file_extension": ".py",
   "mimetype": "text/x-python",
   "name": "python",
   "nbconvert_exporter": "python",
   "pygments_lexer": "ipython3",
   "version": "3.10.2"
  },
  "orig_nbformat": 4
 },
 "nbformat": 4,
 "nbformat_minor": 2
}
